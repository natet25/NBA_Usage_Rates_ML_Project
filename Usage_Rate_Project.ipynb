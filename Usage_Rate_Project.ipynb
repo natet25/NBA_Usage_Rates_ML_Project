{
 "cells": [
  {
   "cell_type": "code",
   "execution_count": 1,
   "metadata": {},
   "outputs": [],
   "source": [
    "import pandas as pd\n",
    "import numpy as np\n",
    "import seaborn as sns\n",
    "import matplotlib.pyplot as plt"
   ]
  },
  {
   "cell_type": "code",
   "execution_count": 2,
   "metadata": {},
   "outputs": [],
   "source": [
    "nba = pd.read_csv('all_seasons.csv', index_col=0)"
   ]
  },
  {
   "cell_type": "code",
   "execution_count": 3,
   "metadata": {},
   "outputs": [],
   "source": [
    "stats = list(nba.select_dtypes(include=[np.number]))\n",
    "stats.append('player_name')\n",
    "stats.append('season')"
   ]
  },
  {
   "cell_type": "code",
   "execution_count": 4,
   "metadata": {},
   "outputs": [],
   "source": [
    "nba = nba[stats]"
   ]
  },
  {
   "cell_type": "code",
   "execution_count": 5,
   "metadata": {},
   "outputs": [],
   "source": [
    "nba = nba[nba['gp'] >= 40]"
   ]
  },
  {
   "cell_type": "code",
   "execution_count": 6,
   "metadata": {},
   "outputs": [],
   "source": [
    "x = nba[nba['season'] == '2018-19']\n",
    "y = nba[nba['season'] == '2019-20']\n",
    "z = nba[nba['season'] == '2020-21']\n",
    "dfs = [x,y,z]"
   ]
  },
  {
   "cell_type": "code",
   "execution_count": 7,
   "metadata": {},
   "outputs": [
    {
     "data": {
      "text/html": [
       "<div>\n",
       "<style scoped>\n",
       "    .dataframe tbody tr th:only-of-type {\n",
       "        vertical-align: middle;\n",
       "    }\n",
       "\n",
       "    .dataframe tbody tr th {\n",
       "        vertical-align: top;\n",
       "    }\n",
       "\n",
       "    .dataframe thead th {\n",
       "        text-align: right;\n",
       "    }\n",
       "</style>\n",
       "<table border=\"1\" class=\"dataframe\">\n",
       "  <thead>\n",
       "    <tr style=\"text-align: right;\">\n",
       "      <th></th>\n",
       "      <th>count</th>\n",
       "      <th>mean</th>\n",
       "      <th>std</th>\n",
       "      <th>min</th>\n",
       "      <th>25%</th>\n",
       "      <th>50%</th>\n",
       "      <th>75%</th>\n",
       "      <th>max</th>\n",
       "    </tr>\n",
       "  </thead>\n",
       "  <tbody>\n",
       "    <tr>\n",
       "      <th>age</th>\n",
       "      <td>993.0</td>\n",
       "      <td>26.562941</td>\n",
       "      <td>4.212395</td>\n",
       "      <td>19.00000</td>\n",
       "      <td>23.0000</td>\n",
       "      <td>26.00000</td>\n",
       "      <td>29.00000</td>\n",
       "      <td>43.00000</td>\n",
       "    </tr>\n",
       "    <tr>\n",
       "      <th>player_height</th>\n",
       "      <td>993.0</td>\n",
       "      <td>199.608701</td>\n",
       "      <td>8.439225</td>\n",
       "      <td>175.26000</td>\n",
       "      <td>193.0400</td>\n",
       "      <td>200.66000</td>\n",
       "      <td>205.74000</td>\n",
       "      <td>223.52000</td>\n",
       "    </tr>\n",
       "    <tr>\n",
       "      <th>player_weight</th>\n",
       "      <td>993.0</td>\n",
       "      <td>98.821389</td>\n",
       "      <td>11.026580</td>\n",
       "      <td>74.84268</td>\n",
       "      <td>90.7184</td>\n",
       "      <td>97.52228</td>\n",
       "      <td>106.59412</td>\n",
       "      <td>131.54168</td>\n",
       "    </tr>\n",
       "    <tr>\n",
       "      <th>gp</th>\n",
       "      <td>993.0</td>\n",
       "      <td>60.750252</td>\n",
       "      <td>10.981292</td>\n",
       "      <td>40.00000</td>\n",
       "      <td>52.0000</td>\n",
       "      <td>61.00000</td>\n",
       "      <td>69.00000</td>\n",
       "      <td>82.00000</td>\n",
       "    </tr>\n",
       "    <tr>\n",
       "      <th>pts</th>\n",
       "      <td>993.0</td>\n",
       "      <td>11.151964</td>\n",
       "      <td>6.154278</td>\n",
       "      <td>1.00000</td>\n",
       "      <td>6.6000</td>\n",
       "      <td>9.60000</td>\n",
       "      <td>14.50000</td>\n",
       "      <td>36.10000</td>\n",
       "    </tr>\n",
       "    <tr>\n",
       "      <th>reb</th>\n",
       "      <td>993.0</td>\n",
       "      <td>4.434038</td>\n",
       "      <td>2.447837</td>\n",
       "      <td>0.70000</td>\n",
       "      <td>2.7000</td>\n",
       "      <td>3.90000</td>\n",
       "      <td>5.50000</td>\n",
       "      <td>15.60000</td>\n",
       "    </tr>\n",
       "    <tr>\n",
       "      <th>ast</th>\n",
       "      <td>993.0</td>\n",
       "      <td>2.467674</td>\n",
       "      <td>1.921964</td>\n",
       "      <td>0.20000</td>\n",
       "      <td>1.1000</td>\n",
       "      <td>1.80000</td>\n",
       "      <td>3.30000</td>\n",
       "      <td>11.70000</td>\n",
       "    </tr>\n",
       "    <tr>\n",
       "      <th>net_rating</th>\n",
       "      <td>993.0</td>\n",
       "      <td>-0.254985</td>\n",
       "      <td>5.667150</td>\n",
       "      <td>-18.30000</td>\n",
       "      <td>-4.1000</td>\n",
       "      <td>-0.10000</td>\n",
       "      <td>3.60000</td>\n",
       "      <td>16.70000</td>\n",
       "    </tr>\n",
       "    <tr>\n",
       "      <th>oreb_pct</th>\n",
       "      <td>993.0</td>\n",
       "      <td>0.041660</td>\n",
       "      <td>0.032468</td>\n",
       "      <td>0.00300</td>\n",
       "      <td>0.0190</td>\n",
       "      <td>0.02900</td>\n",
       "      <td>0.05500</td>\n",
       "      <td>0.16200</td>\n",
       "    </tr>\n",
       "    <tr>\n",
       "      <th>dreb_pct</th>\n",
       "      <td>993.0</td>\n",
       "      <td>0.137896</td>\n",
       "      <td>0.053867</td>\n",
       "      <td>0.03900</td>\n",
       "      <td>0.0980</td>\n",
       "      <td>0.12800</td>\n",
       "      <td>0.16800</td>\n",
       "      <td>0.33600</td>\n",
       "    </tr>\n",
       "    <tr>\n",
       "      <th>usg_pct</th>\n",
       "      <td>993.0</td>\n",
       "      <td>0.186646</td>\n",
       "      <td>0.053009</td>\n",
       "      <td>0.07200</td>\n",
       "      <td>0.1480</td>\n",
       "      <td>0.17700</td>\n",
       "      <td>0.21800</td>\n",
       "      <td>0.39600</td>\n",
       "    </tr>\n",
       "    <tr>\n",
       "      <th>ts_pct</th>\n",
       "      <td>993.0</td>\n",
       "      <td>0.564446</td>\n",
       "      <td>0.050028</td>\n",
       "      <td>0.41700</td>\n",
       "      <td>0.5310</td>\n",
       "      <td>0.56200</td>\n",
       "      <td>0.59500</td>\n",
       "      <td>0.73600</td>\n",
       "    </tr>\n",
       "    <tr>\n",
       "      <th>ast_pct</th>\n",
       "      <td>993.0</td>\n",
       "      <td>0.143367</td>\n",
       "      <td>0.086097</td>\n",
       "      <td>0.01700</td>\n",
       "      <td>0.0790</td>\n",
       "      <td>0.11400</td>\n",
       "      <td>0.18900</td>\n",
       "      <td>0.47700</td>\n",
       "    </tr>\n",
       "  </tbody>\n",
       "</table>\n",
       "</div>"
      ],
      "text/plain": [
       "               count        mean        std  ...        50%        75%        max\n",
       "age            993.0   26.562941   4.212395  ...   26.00000   29.00000   43.00000\n",
       "player_height  993.0  199.608701   8.439225  ...  200.66000  205.74000  223.52000\n",
       "player_weight  993.0   98.821389  11.026580  ...   97.52228  106.59412  131.54168\n",
       "gp             993.0   60.750252  10.981292  ...   61.00000   69.00000   82.00000\n",
       "pts            993.0   11.151964   6.154278  ...    9.60000   14.50000   36.10000\n",
       "reb            993.0    4.434038   2.447837  ...    3.90000    5.50000   15.60000\n",
       "ast            993.0    2.467674   1.921964  ...    1.80000    3.30000   11.70000\n",
       "net_rating     993.0   -0.254985   5.667150  ...   -0.10000    3.60000   16.70000\n",
       "oreb_pct       993.0    0.041660   0.032468  ...    0.02900    0.05500    0.16200\n",
       "dreb_pct       993.0    0.137896   0.053867  ...    0.12800    0.16800    0.33600\n",
       "usg_pct        993.0    0.186646   0.053009  ...    0.17700    0.21800    0.39600\n",
       "ts_pct         993.0    0.564446   0.050028  ...    0.56200    0.59500    0.73600\n",
       "ast_pct        993.0    0.143367   0.086097  ...    0.11400    0.18900    0.47700\n",
       "\n",
       "[13 rows x 8 columns]"
      ]
     },
     "execution_count": 7,
     "metadata": {},
     "output_type": "execute_result"
    }
   ],
   "source": [
    "cleaned_nba = pd.concat(dfs)\n",
    "cleaned_nba.describe().T"
   ]
  },
  {
   "cell_type": "code",
   "execution_count": 8,
   "metadata": {},
   "outputs": [],
   "source": [
    "def usage_rate_tiers(x):\n",
    "    if x <= .14925:\n",
    "        return('Low')\n",
    "    if x <= .179:\n",
    "        return('Medium')\n",
    "    if x <= .22175:\n",
    "        return('High')\n",
    "    if x <= .396:\n",
    "        return('Elite')\n",
    "cleaned_nba['usg_pct'] = cleaned_nba['usg_pct'].apply(usage_rate_tiers)"
   ]
  },
  {
   "cell_type": "markdown",
   "metadata": {},
   "source": [
    "<b>EDA on Variables</b>"
   ]
  },
  {
   "cell_type": "code",
   "execution_count": 9,
   "metadata": {},
   "outputs": [
    {
     "data": {
      "text/plain": [
       "Index(['age', 'player_height', 'player_weight', 'gp', 'pts', 'reb', 'ast',\n",
       "       'net_rating', 'oreb_pct', 'dreb_pct', 'usg_pct', 'ts_pct', 'ast_pct',\n",
       "       'player_name', 'season'],\n",
       "      dtype='object')"
      ]
     },
     "execution_count": 9,
     "metadata": {},
     "output_type": "execute_result"
    }
   ],
   "source": [
    "cleaned_nba.columns"
   ]
  },
  {
   "cell_type": "code",
   "execution_count": 10,
   "metadata": {},
   "outputs": [
    {
     "data": {
      "text/plain": [
       "usg_pct\n",
       "Low        6.130196\n",
       "Medium     8.455000\n",
       "High      11.436437\n",
       "Elite     19.426840\n",
       "Name: pts, dtype: float64"
      ]
     },
     "execution_count": 10,
     "metadata": {},
     "output_type": "execute_result"
    }
   ],
   "source": [
    "sns.barplot(x='usg_pct',y='pts',data=cleaned_nba,order=['Low','Medium','High','Elite'])\n",
    "cleaned_nba['pts'].groupby(cleaned_nba['usg_pct']).mean().sort_values()"
   ]
  },
  {
   "cell_type": "code",
   "execution_count": 11,
   "metadata": {},
   "outputs": [
    {
     "data": {
      "text/plain": [
       "<matplotlib.axes._subplots.AxesSubplot at 0x7fd26a397520>"
      ]
     },
     "execution_count": 11,
     "metadata": {},
     "output_type": "execute_result"
    }
   ],
   "source": [
    "sns.scatterplot(x='pts',y='usg_pct',data=nba)"
   ]
  },
  {
   "cell_type": "code",
   "execution_count": 12,
   "metadata": {},
   "outputs": [
    {
     "data": {
      "text/html": [
       "<div>\n",
       "<style scoped>\n",
       "    .dataframe tbody tr th:only-of-type {\n",
       "        vertical-align: middle;\n",
       "    }\n",
       "\n",
       "    .dataframe tbody tr th {\n",
       "        vertical-align: top;\n",
       "    }\n",
       "\n",
       "    .dataframe thead th {\n",
       "        text-align: right;\n",
       "    }\n",
       "</style>\n",
       "<table border=\"1\" class=\"dataframe\">\n",
       "  <thead>\n",
       "    <tr style=\"text-align: right;\">\n",
       "      <th></th>\n",
       "      <th>sum_sq</th>\n",
       "      <th>df</th>\n",
       "      <th>F</th>\n",
       "      <th>PR(&gt;F)</th>\n",
       "    </tr>\n",
       "  </thead>\n",
       "  <tbody>\n",
       "    <tr>\n",
       "      <th>Q('usg_pct')</th>\n",
       "      <td>24159.152023</td>\n",
       "      <td>3.0</td>\n",
       "      <td>593.787747</td>\n",
       "      <td>1.242735e-220</td>\n",
       "    </tr>\n",
       "    <tr>\n",
       "      <th>Residual</th>\n",
       "      <td>13412.986648</td>\n",
       "      <td>989.0</td>\n",
       "      <td>NaN</td>\n",
       "      <td>NaN</td>\n",
       "    </tr>\n",
       "  </tbody>\n",
       "</table>\n",
       "</div>"
      ],
      "text/plain": [
       "                    sum_sq     df           F         PR(>F)\n",
       "Q('usg_pct')  24159.152023    3.0  593.787747  1.242735e-220\n",
       "Residual      13412.986648  989.0         NaN            NaN"
      ]
     },
     "execution_count": 12,
     "metadata": {},
     "output_type": "execute_result"
    },
    {
     "data": {
      "image/png": "[encoded data removed]",
      "text/plain": [
       "<Figure size 432x288 with 1 Axes>"
      ]
     },
     "metadata": {
      "needs_background": "light"
     },
     "output_type": "display_data"
    }
   ],
   "source": [
    "%matplotlib inline\n",
    "sns.boxplot(x='usg_pct', y='pts',data=cleaned_nba,order=['Low','Medium','High','Elite'])\n",
    "import statsmodels.api as sm\n",
    "from statsmodels.formula.api import ols\n",
    "age_lm = ols(\" Q('pts') ~ Q('usg_pct')\", data=cleaned_nba).fit()\n",
    "table = sm.stats.anova_lm(age_lm, typ=2)\n",
    "table"
   ]
  },
  {
   "cell_type": "markdown",
   "metadata": {},
   "source": [
    "The p-value is less than .05 so points vary by usg_pct."
   ]
  },
  {
   "cell_type": "code",
   "execution_count": 13,
   "metadata": {},
   "outputs": [
    {
     "data": {
      "text/plain": [
       "usg_pct\n",
       "Low       3.775294\n",
       "Medium    3.940769\n",
       "High      4.448178\n",
       "Elite     5.701299\n",
       "Name: reb, dtype: float64"
      ]
     },
     "execution_count": 13,
     "metadata": {},
     "output_type": "execute_result"
    },
    {
     "data": {
      "image/png": "[encoded data removed]",
      "text/plain": [
       "<Figure size 432x288 with 1 Axes>"
      ]
     },
     "metadata": {
      "needs_background": "light"
     },
     "output_type": "display_data"
    }
   ],
   "source": [
    "sns.barplot(x='usg_pct',y='reb',data=cleaned_nba,order=['Low','Medium','High','Elite'])\n",
    "cleaned_nba['reb'].groupby(cleaned_nba['usg_pct']).mean().sort_values()"
   ]
  },
  {
   "cell_type": "code",
   "execution_count": 14,
   "metadata": {},
   "outputs": [
    {
     "data": {
      "text/plain": [
       "<matplotlib.axes._subplots.AxesSubplot at 0x7fd26b1fa580>"
      ]
     },
     "execution_count": 14,
     "metadata": {},
     "output_type": "execute_result"
    },
    {
     "data": {
      "image/png": "[encoded data removed]",
      "text/plain": [
       "<Figure size 432x288 with 1 Axes>"
      ]
     },
     "metadata": {
      "needs_background": "light"
     },
     "output_type": "display_data"
    }
   ],
   "source": [
    "sns.scatterplot(x='reb',y='usg_pct',data=nba)"
   ]
  },
  {
   "cell_type": "code",
   "execution_count": 15,
   "metadata": {},
   "outputs": [
    {
     "data": {
      "text/html": [
       "<div>\n",
       "<style scoped>\n",
       "    .dataframe tbody tr th:only-of-type {\n",
       "        vertical-align: middle;\n",
       "    }\n",
       "\n",
       "    .dataframe tbody tr th {\n",
       "        vertical-align: top;\n",
       "    }\n",
       "\n",
       "    .dataframe thead th {\n",
       "        text-align: right;\n",
       "    }\n",
       "</style>\n",
       "<table border=\"1\" class=\"dataframe\">\n",
       "  <thead>\n",
       "    <tr style=\"text-align: right;\">\n",
       "      <th></th>\n",
       "      <th>sum_sq</th>\n",
       "      <th>df</th>\n",
       "      <th>F</th>\n",
       "      <th>PR(&gt;F)</th>\n",
       "    </tr>\n",
       "  </thead>\n",
       "  <tbody>\n",
       "    <tr>\n",
       "      <th>Q('usg_pct')</th>\n",
       "      <td>544.941017</td>\n",
       "      <td>3.0</td>\n",
       "      <td>33.274299</td>\n",
       "      <td>1.715896e-20</td>\n",
       "    </tr>\n",
       "    <tr>\n",
       "      <th>Residual</th>\n",
       "      <td>5399.028490</td>\n",
       "      <td>989.0</td>\n",
       "      <td>NaN</td>\n",
       "      <td>NaN</td>\n",
       "    </tr>\n",
       "  </tbody>\n",
       "</table>\n",
       "</div>"
      ],
      "text/plain": [
       "                   sum_sq     df          F        PR(>F)\n",
       "Q('usg_pct')   544.941017    3.0  33.274299  1.715896e-20\n",
       "Residual      5399.028490  989.0        NaN           NaN"
      ]
     },
     "execution_count": 15,
     "metadata": {},
     "output_type": "execute_result"
    },
    {
     "data": {
      "image/png": "[encoded data removed]",
      "text/plain": [
       "<Figure size 432x288 with 1 Axes>"
      ]
     },
     "metadata": {
      "needs_background": "light"
     },
     "output_type": "display_data"
    }
   ],
   "source": [
    "%matplotlib inline\n",
    "sns.boxplot(x='usg_pct', y='reb',data=cleaned_nba,order=['Low','Medium','High','Elite'])\n",
    "import statsmodels.api as sm\n",
    "from statsmodels.formula.api import ols\n",
    "age_lm = ols(\" Q('reb') ~ Q('usg_pct')\", data=cleaned_nba).fit()\n",
    "table = sm.stats.anova_lm(age_lm, typ=2)\n",
    "table"
   ]
  },
  {
   "cell_type": "markdown",
   "metadata": {},
   "source": [
    "The p-value is less than .05 so rebounds vary by usg_pct."
   ]
  },
  {
   "cell_type": "code",
   "execution_count": 16,
   "metadata": {},
   "outputs": [
    {
     "data": {
      "text/plain": [
       "usg_pct\n",
       "Low       1.493725\n",
       "Medium    1.880385\n",
       "High      2.426316\n",
       "Elite     4.248052\n",
       "Name: ast, dtype: float64"
      ]
     },
     "execution_count": 16,
     "metadata": {},
     "output_type": "execute_result"
    },
    {
     "data": {
      "image/png": "[encoded data removed]",
      "text/plain": [
       "<Figure size 432x288 with 1 Axes>"
      ]
     },
     "metadata": {
      "needs_background": "light"
     },
     "output_type": "display_data"
    }
   ],
   "source": [
    "sns.barplot(x='usg_pct',y='ast',data=cleaned_nba,order=['Low','Medium','High','Elite'])\n",
    "cleaned_nba['ast'].groupby(cleaned_nba['usg_pct']).mean().sort_values()"
   ]
  },
  {
   "cell_type": "code",
   "execution_count": 17,
   "metadata": {},
   "outputs": [
    {
     "data": {
      "text/plain": [
       "<matplotlib.axes._subplots.AxesSubplot at 0x7fd2690ab850>"
      ]
     },
     "execution_count": 17,
     "metadata": {},
     "output_type": "execute_result"
    },
    {
     "data": {
      "image/png": "[encoded data removed]",
      "text/plain": [
       "<Figure size 432x288 with 1 Axes>"
      ]
     },
     "metadata": {
      "needs_background": "light"
     },
     "output_type": "display_data"
    }
   ],
   "source": [
    "sns.scatterplot(x='ast',y='usg_pct',data=nba)"
   ]
  },
  {
   "cell_type": "code",
   "execution_count": 18,
   "metadata": {},
   "outputs": [
    {
     "data": {
      "text/html": [
       "<div>\n",
       "<style scoped>\n",
       "    .dataframe tbody tr th:only-of-type {\n",
       "        vertical-align: middle;\n",
       "    }\n",
       "\n",
       "    .dataframe tbody tr th {\n",
       "        vertical-align: top;\n",
       "    }\n",
       "\n",
       "    .dataframe thead th {\n",
       "        text-align: right;\n",
       "    }\n",
       "</style>\n",
       "<table border=\"1\" class=\"dataframe\">\n",
       "  <thead>\n",
       "    <tr style=\"text-align: right;\">\n",
       "      <th></th>\n",
       "      <th>sum_sq</th>\n",
       "      <th>df</th>\n",
       "      <th>F</th>\n",
       "      <th>PR(&gt;F)</th>\n",
       "    </tr>\n",
       "  </thead>\n",
       "  <tbody>\n",
       "    <tr>\n",
       "      <th>Q('usg_pct')</th>\n",
       "      <td>1064.196833</td>\n",
       "      <td>3.0</td>\n",
       "      <td>134.924556</td>\n",
       "      <td>2.844069e-73</td>\n",
       "    </tr>\n",
       "    <tr>\n",
       "      <th>Residual</th>\n",
       "      <td>2600.195493</td>\n",
       "      <td>989.0</td>\n",
       "      <td>NaN</td>\n",
       "      <td>NaN</td>\n",
       "    </tr>\n",
       "  </tbody>\n",
       "</table>\n",
       "</div>"
      ],
      "text/plain": [
       "                   sum_sq     df           F        PR(>F)\n",
       "Q('usg_pct')  1064.196833    3.0  134.924556  2.844069e-73\n",
       "Residual      2600.195493  989.0         NaN           NaN"
      ]
     },
     "execution_count": 18,
     "metadata": {},
     "output_type": "execute_result"
    },
    {
     "data": {
      "image/png": "[encoded data removed]",
      "text/plain": [
       "<Figure size 432x288 with 1 Axes>"
      ]
     },
     "metadata": {
      "needs_background": "light"
     },
     "output_type": "display_data"
    }
   ],
   "source": [
    "%matplotlib inline\n",
    "sns.boxplot(x='usg_pct', y='ast',data=cleaned_nba,order=['Low','Medium','High','Elite'])\n",
    "import statsmodels.api as sm\n",
    "from statsmodels.formula.api import ols\n",
    "age_lm = ols(\" Q('ast') ~ Q('usg_pct')\", data=cleaned_nba).fit()\n",
    "table = sm.stats.anova_lm(age_lm, typ=2)\n",
    "table"
   ]
  },
  {
   "cell_type": "markdown",
   "metadata": {},
   "source": [
    "The p-value is less than .05 so assists vary by usg_pct."
   ]
  },
  {
   "cell_type": "code",
   "execution_count": 19,
   "metadata": {},
   "outputs": [
    {
     "data": {
      "text/html": [
       "<div>\n",
       "<style scoped>\n",
       "    .dataframe tbody tr th:only-of-type {\n",
       "        vertical-align: middle;\n",
       "    }\n",
       "\n",
       "    .dataframe tbody tr th {\n",
       "        vertical-align: top;\n",
       "    }\n",
       "\n",
       "    .dataframe thead th {\n",
       "        text-align: right;\n",
       "    }\n",
       "</style>\n",
       "<table border=\"1\" class=\"dataframe\">\n",
       "  <thead>\n",
       "    <tr style=\"text-align: right;\">\n",
       "      <th></th>\n",
       "      <th>sum_sq</th>\n",
       "      <th>df</th>\n",
       "      <th>F</th>\n",
       "      <th>PR(&gt;F)</th>\n",
       "    </tr>\n",
       "  </thead>\n",
       "  <tbody>\n",
       "    <tr>\n",
       "      <th>Q('usg_pct')</th>\n",
       "      <td>66.798044</td>\n",
       "      <td>3.0</td>\n",
       "      <td>1.255799</td>\n",
       "      <td>0.288321</td>\n",
       "    </tr>\n",
       "    <tr>\n",
       "      <th>Residual</th>\n",
       "      <td>17535.518170</td>\n",
       "      <td>989.0</td>\n",
       "      <td>NaN</td>\n",
       "      <td>NaN</td>\n",
       "    </tr>\n",
       "  </tbody>\n",
       "</table>\n",
       "</div>"
      ],
      "text/plain": [
       "                    sum_sq     df         F    PR(>F)\n",
       "Q('usg_pct')     66.798044    3.0  1.255799  0.288321\n",
       "Residual      17535.518170  989.0       NaN       NaN"
      ]
     },
     "execution_count": 19,
     "metadata": {},
     "output_type": "execute_result"
    },
    {
     "data": {
      "image/png": "[encoded data removed]",
      "text/plain": [
       "<Figure size 432x288 with 1 Axes>"
      ]
     },
     "metadata": {
      "needs_background": "light"
     },
     "output_type": "display_data"
    }
   ],
   "source": [
    "%matplotlib inline\n",
    "sns.boxplot(x='usg_pct', y='age',data=cleaned_nba)\n",
    "import statsmodels.api as sm\n",
    "from statsmodels.formula.api import ols\n",
    "age_lm = ols(\" Q('age') ~ Q('usg_pct')\", data=cleaned_nba).fit()\n",
    "table = sm.stats.anova_lm(age_lm, typ=2)\n",
    "table"
   ]
  },
  {
   "cell_type": "markdown",
   "metadata": {},
   "source": [
    "The p-value is more than .05 so age does not vary by usg_pct."
   ]
  },
  {
   "cell_type": "code",
   "execution_count": 20,
   "metadata": {},
   "outputs": [
    {
     "data": {
      "text/html": [
       "<div>\n",
       "<style scoped>\n",
       "    .dataframe tbody tr th:only-of-type {\n",
       "        vertical-align: middle;\n",
       "    }\n",
       "\n",
       "    .dataframe tbody tr th {\n",
       "        vertical-align: top;\n",
       "    }\n",
       "\n",
       "    .dataframe thead th {\n",
       "        text-align: right;\n",
       "    }\n",
       "</style>\n",
       "<table border=\"1\" class=\"dataframe\">\n",
       "  <thead>\n",
       "    <tr style=\"text-align: right;\">\n",
       "      <th></th>\n",
       "      <th>sum_sq</th>\n",
       "      <th>df</th>\n",
       "      <th>F</th>\n",
       "      <th>PR(&gt;F)</th>\n",
       "    </tr>\n",
       "  </thead>\n",
       "  <tbody>\n",
       "    <tr>\n",
       "      <th>Q('usg_pct')</th>\n",
       "      <td>867.141948</td>\n",
       "      <td>3.0</td>\n",
       "      <td>4.096489</td>\n",
       "      <td>0.006667</td>\n",
       "    </tr>\n",
       "    <tr>\n",
       "      <th>Residual</th>\n",
       "      <td>69783.608476</td>\n",
       "      <td>989.0</td>\n",
       "      <td>NaN</td>\n",
       "      <td>NaN</td>\n",
       "    </tr>\n",
       "  </tbody>\n",
       "</table>\n",
       "</div>"
      ],
      "text/plain": [
       "                    sum_sq     df         F    PR(>F)\n",
       "Q('usg_pct')    867.141948    3.0  4.096489  0.006667\n",
       "Residual      69783.608476  989.0       NaN       NaN"
      ]
     },
     "execution_count": 20,
     "metadata": {},
     "output_type": "execute_result"
    },
    {
     "data": {
      "image/png": "[encoded data removed]",
      "text/plain": [
       "<Figure size 432x288 with 1 Axes>"
      ]
     },
     "metadata": {
      "needs_background": "light"
     },
     "output_type": "display_data"
    }
   ],
   "source": [
    "%matplotlib inline\n",
    "sns.boxplot(x='usg_pct', y='player_height',data=cleaned_nba,order=['Low','Medium','High','Elite'])\n",
    "import statsmodels.api as sm\n",
    "from statsmodels.formula.api import ols\n",
    "age_lm = ols(\" Q('player_height') ~ Q('usg_pct')\", data=cleaned_nba).fit()\n",
    "table = sm.stats.anova_lm(age_lm, typ=2)\n",
    "table"
   ]
  },
  {
   "cell_type": "markdown",
   "metadata": {},
   "source": [
    "The p-value is more than .05 so player height does not vary by usg_pct."
   ]
  },
  {
   "cell_type": "code",
   "execution_count": 21,
   "metadata": {},
   "outputs": [
    {
     "data": {
      "text/html": [
       "<div>\n",
       "<style scoped>\n",
       "    .dataframe tbody tr th:only-of-type {\n",
       "        vertical-align: middle;\n",
       "    }\n",
       "\n",
       "    .dataframe tbody tr th {\n",
       "        vertical-align: top;\n",
       "    }\n",
       "\n",
       "    .dataframe thead th {\n",
       "        text-align: right;\n",
       "    }\n",
       "</style>\n",
       "<table border=\"1\" class=\"dataframe\">\n",
       "  <thead>\n",
       "    <tr style=\"text-align: right;\">\n",
       "      <th></th>\n",
       "      <th>sum_sq</th>\n",
       "      <th>df</th>\n",
       "      <th>F</th>\n",
       "      <th>PR(&gt;F)</th>\n",
       "    </tr>\n",
       "  </thead>\n",
       "  <tbody>\n",
       "    <tr>\n",
       "      <th>Q('usg_pct')</th>\n",
       "      <td>790.54762</td>\n",
       "      <td>3.0</td>\n",
       "      <td>2.175032</td>\n",
       "      <td>0.089389</td>\n",
       "    </tr>\n",
       "    <tr>\n",
       "      <th>Residual</th>\n",
       "      <td>119822.24259</td>\n",
       "      <td>989.0</td>\n",
       "      <td>NaN</td>\n",
       "      <td>NaN</td>\n",
       "    </tr>\n",
       "  </tbody>\n",
       "</table>\n",
       "</div>"
      ],
      "text/plain": [
       "                    sum_sq     df         F    PR(>F)\n",
       "Q('usg_pct')     790.54762    3.0  2.175032  0.089389\n",
       "Residual      119822.24259  989.0       NaN       NaN"
      ]
     },
     "execution_count": 21,
     "metadata": {},
     "output_type": "execute_result"
    },
    {
     "data": {
      "image/png": "[encoded data removed]",
      "text/plain": [
       "<Figure size 432x288 with 1 Axes>"
      ]
     },
     "metadata": {
      "needs_background": "light"
     },
     "output_type": "display_data"
    }
   ],
   "source": [
    "%matplotlib inline\n",
    "sns.boxplot(x='usg_pct', y='player_weight',data=cleaned_nba,order=['Low','Medium','High','Elite'])\n",
    "import statsmodels.api as sm\n",
    "from statsmodels.formula.api import ols\n",
    "age_lm = ols(\" Q('player_weight') ~ Q('usg_pct')\", data=cleaned_nba).fit()\n",
    "table = sm.stats.anova_lm(age_lm, typ=2)\n",
    "table"
   ]
  },
  {
   "cell_type": "markdown",
   "metadata": {},
   "source": [
    "The p-value is more than .05 so player weight does not vary by usg_pct."
   ]
  },
  {
   "cell_type": "code",
   "execution_count": 22,
   "metadata": {},
   "outputs": [
    {
     "data": {
      "text/html": [
       "<div>\n",
       "<style scoped>\n",
       "    .dataframe tbody tr th:only-of-type {\n",
       "        vertical-align: middle;\n",
       "    }\n",
       "\n",
       "    .dataframe tbody tr th {\n",
       "        vertical-align: top;\n",
       "    }\n",
       "\n",
       "    .dataframe thead th {\n",
       "        text-align: right;\n",
       "    }\n",
       "</style>\n",
       "<table border=\"1\" class=\"dataframe\">\n",
       "  <thead>\n",
       "    <tr style=\"text-align: right;\">\n",
       "      <th></th>\n",
       "      <th>sum_sq</th>\n",
       "      <th>df</th>\n",
       "      <th>F</th>\n",
       "      <th>PR(&gt;F)</th>\n",
       "    </tr>\n",
       "  </thead>\n",
       "  <tbody>\n",
       "    <tr>\n",
       "      <th>Q('usg_pct')</th>\n",
       "      <td>590.716099</td>\n",
       "      <td>3.0</td>\n",
       "      <td>1.636007</td>\n",
       "      <td>0.179393</td>\n",
       "    </tr>\n",
       "    <tr>\n",
       "      <th>Residual</th>\n",
       "      <td>119033.346338</td>\n",
       "      <td>989.0</td>\n",
       "      <td>NaN</td>\n",
       "      <td>NaN</td>\n",
       "    </tr>\n",
       "  </tbody>\n",
       "</table>\n",
       "</div>"
      ],
      "text/plain": [
       "                     sum_sq     df         F    PR(>F)\n",
       "Q('usg_pct')     590.716099    3.0  1.636007  0.179393\n",
       "Residual      119033.346338  989.0       NaN       NaN"
      ]
     },
     "execution_count": 22,
     "metadata": {},
     "output_type": "execute_result"
    },
    {
     "data": {
      "image/png": "[encoded data removed]",
      "text/plain": [
       "<Figure size 432x288 with 1 Axes>"
      ]
     },
     "metadata": {
      "needs_background": "light"
     },
     "output_type": "display_data"
    }
   ],
   "source": [
    "%matplotlib inline\n",
    "sns.boxplot(x='usg_pct', y='gp',data=cleaned_nba,order=['Low','Medium','High','Elite'])\n",
    "import statsmodels.api as sm\n",
    "from statsmodels.formula.api import ols\n",
    "age_lm = ols(\" Q('gp') ~ Q('usg_pct')\", data=cleaned_nba).fit()\n",
    "table = sm.stats.anova_lm(age_lm, typ=2)\n",
    "table"
   ]
  },
  {
   "cell_type": "markdown",
   "metadata": {},
   "source": [
    "The p-value is above .05, so games played does not vary by usg_pct."
   ]
  },
  {
   "cell_type": "code",
   "execution_count": 23,
   "metadata": {},
   "outputs": [
    {
     "data": {
      "text/html": [
       "<div>\n",
       "<style scoped>\n",
       "    .dataframe tbody tr th:only-of-type {\n",
       "        vertical-align: middle;\n",
       "    }\n",
       "\n",
       "    .dataframe tbody tr th {\n",
       "        vertical-align: top;\n",
       "    }\n",
       "\n",
       "    .dataframe thead th {\n",
       "        text-align: right;\n",
       "    }\n",
       "</style>\n",
       "<table border=\"1\" class=\"dataframe\">\n",
       "  <thead>\n",
       "    <tr style=\"text-align: right;\">\n",
       "      <th></th>\n",
       "      <th>sum_sq</th>\n",
       "      <th>df</th>\n",
       "      <th>F</th>\n",
       "      <th>PR(&gt;F)</th>\n",
       "    </tr>\n",
       "  </thead>\n",
       "  <tbody>\n",
       "    <tr>\n",
       "      <th>Q('usg_pct')</th>\n",
       "      <td>817.532881</td>\n",
       "      <td>3.0</td>\n",
       "      <td>8.682181</td>\n",
       "      <td>0.000011</td>\n",
       "    </tr>\n",
       "    <tr>\n",
       "      <th>Residual</th>\n",
       "      <td>31042.124944</td>\n",
       "      <td>989.0</td>\n",
       "      <td>NaN</td>\n",
       "      <td>NaN</td>\n",
       "    </tr>\n",
       "  </tbody>\n",
       "</table>\n",
       "</div>"
      ],
      "text/plain": [
       "                    sum_sq     df         F    PR(>F)\n",
       "Q('usg_pct')    817.532881    3.0  8.682181  0.000011\n",
       "Residual      31042.124944  989.0       NaN       NaN"
      ]
     },
     "execution_count": 23,
     "metadata": {},
     "output_type": "execute_result"
    },
    {
     "data": {
      "image/png": "[encoded data removed]",
      "text/plain": [
       "<Figure size 432x288 with 1 Axes>"
      ]
     },
     "metadata": {
      "needs_background": "light"
     },
     "output_type": "display_data"
    }
   ],
   "source": [
    "sns.boxplot(x='usg_pct', y='net_rating',data=cleaned_nba)\n",
    "net_lm = ols(\" Q('net_rating') ~ Q('usg_pct')\", data=cleaned_nba).fit()\n",
    "table = sm.stats.anova_lm(net_lm, typ=2)\n",
    "table"
   ]
  },
  {
   "cell_type": "markdown",
   "metadata": {},
   "source": [
    "The p-value is less than .05 so net_rating varies by usg_pct."
   ]
  },
  {
   "cell_type": "code",
   "execution_count": 24,
   "metadata": {},
   "outputs": [
    {
     "data": {
      "text/html": [
       "<div>\n",
       "<style scoped>\n",
       "    .dataframe tbody tr th:only-of-type {\n",
       "        vertical-align: middle;\n",
       "    }\n",
       "\n",
       "    .dataframe tbody tr th {\n",
       "        vertical-align: top;\n",
       "    }\n",
       "\n",
       "    .dataframe thead th {\n",
       "        text-align: right;\n",
       "    }\n",
       "</style>\n",
       "<table border=\"1\" class=\"dataframe\">\n",
       "  <thead>\n",
       "    <tr style=\"text-align: right;\">\n",
       "      <th></th>\n",
       "      <th>sum_sq</th>\n",
       "      <th>df</th>\n",
       "      <th>F</th>\n",
       "      <th>PR(&gt;F)</th>\n",
       "    </tr>\n",
       "  </thead>\n",
       "  <tbody>\n",
       "    <tr>\n",
       "      <th>Q('usg_pct')</th>\n",
       "      <td>0.016723</td>\n",
       "      <td>3.0</td>\n",
       "      <td>5.357608</td>\n",
       "      <td>0.00116</td>\n",
       "    </tr>\n",
       "    <tr>\n",
       "      <th>Residual</th>\n",
       "      <td>1.029026</td>\n",
       "      <td>989.0</td>\n",
       "      <td>NaN</td>\n",
       "      <td>NaN</td>\n",
       "    </tr>\n",
       "  </tbody>\n",
       "</table>\n",
       "</div>"
      ],
      "text/plain": [
       "                sum_sq     df         F   PR(>F)\n",
       "Q('usg_pct')  0.016723    3.0  5.357608  0.00116\n",
       "Residual      1.029026  989.0       NaN      NaN"
      ]
     },
     "execution_count": 24,
     "metadata": {},
     "output_type": "execute_result"
    },
    {
     "data": {
      "image/png": "[encoded data removed]",
      "text/plain": [
       "<Figure size 432x288 with 1 Axes>"
      ]
     },
     "metadata": {
      "needs_background": "light"
     },
     "output_type": "display_data"
    }
   ],
   "source": [
    "sns.boxplot(x='usg_pct',y='oreb_pct',data=cleaned_nba)\n",
    "oreb_lm = ols(\" Q('oreb_pct') ~ Q('usg_pct')\", data=cleaned_nba).fit()\n",
    "table = sm.stats.anova_lm(oreb_lm, typ=2)\n",
    "table"
   ]
  },
  {
   "cell_type": "markdown",
   "metadata": {},
   "source": [
    "The p-value is less than .05, so oreb_pct does vary by usg_pct."
   ]
  },
  {
   "cell_type": "code",
   "execution_count": 25,
   "metadata": {},
   "outputs": [
    {
     "data": {
      "text/html": [
       "<div>\n",
       "<style scoped>\n",
       "    .dataframe tbody tr th:only-of-type {\n",
       "        vertical-align: middle;\n",
       "    }\n",
       "\n",
       "    .dataframe tbody tr th {\n",
       "        vertical-align: top;\n",
       "    }\n",
       "\n",
       "    .dataframe thead th {\n",
       "        text-align: right;\n",
       "    }\n",
       "</style>\n",
       "<table border=\"1\" class=\"dataframe\">\n",
       "  <thead>\n",
       "    <tr style=\"text-align: right;\">\n",
       "      <th></th>\n",
       "      <th>sum_sq</th>\n",
       "      <th>df</th>\n",
       "      <th>F</th>\n",
       "      <th>PR(&gt;F)</th>\n",
       "    </tr>\n",
       "  </thead>\n",
       "  <tbody>\n",
       "    <tr>\n",
       "      <th>Q('usg_pct')</th>\n",
       "      <td>0.015486</td>\n",
       "      <td>3.0</td>\n",
       "      <td>1.783246</td>\n",
       "      <td>0.148655</td>\n",
       "    </tr>\n",
       "    <tr>\n",
       "      <th>Residual</th>\n",
       "      <td>2.862936</td>\n",
       "      <td>989.0</td>\n",
       "      <td>NaN</td>\n",
       "      <td>NaN</td>\n",
       "    </tr>\n",
       "  </tbody>\n",
       "</table>\n",
       "</div>"
      ],
      "text/plain": [
       "                sum_sq     df         F    PR(>F)\n",
       "Q('usg_pct')  0.015486    3.0  1.783246  0.148655\n",
       "Residual      2.862936  989.0       NaN       NaN"
      ]
     },
     "execution_count": 25,
     "metadata": {},
     "output_type": "execute_result"
    },
    {
     "data": {
      "image/png": "[encoded data removed]",
      "text/plain": [
       "<Figure size 432x288 with 1 Axes>"
      ]
     },
     "metadata": {
      "needs_background": "light"
     },
     "output_type": "display_data"
    }
   ],
   "source": [
    "sns.boxplot(x='usg_pct',y='dreb_pct',data=cleaned_nba)\n",
    "dreb_lm = ols(\" Q('dreb_pct') ~ Q('usg_pct')\", data=cleaned_nba).fit()\n",
    "table = sm.stats.anova_lm(dreb_lm, typ=2)\n",
    "table"
   ]
  },
  {
   "cell_type": "markdown",
   "metadata": {},
   "source": [
    "The p-value is bigger than .05, so dreb_pct does not vary by usg_pct."
   ]
  },
  {
   "cell_type": "code",
   "execution_count": 26,
   "metadata": {},
   "outputs": [
    {
     "data": {
      "text/html": [
       "<div>\n",
       "<style scoped>\n",
       "    .dataframe tbody tr th:only-of-type {\n",
       "        vertical-align: middle;\n",
       "    }\n",
       "\n",
       "    .dataframe tbody tr th {\n",
       "        vertical-align: top;\n",
       "    }\n",
       "\n",
       "    .dataframe thead th {\n",
       "        text-align: right;\n",
       "    }\n",
       "</style>\n",
       "<table border=\"1\" class=\"dataframe\">\n",
       "  <thead>\n",
       "    <tr style=\"text-align: right;\">\n",
       "      <th></th>\n",
       "      <th>sum_sq</th>\n",
       "      <th>df</th>\n",
       "      <th>F</th>\n",
       "      <th>PR(&gt;F)</th>\n",
       "    </tr>\n",
       "  </thead>\n",
       "  <tbody>\n",
       "    <tr>\n",
       "      <th>Q('usg_pct')</th>\n",
       "      <td>0.028890</td>\n",
       "      <td>3.0</td>\n",
       "      <td>3.881136</td>\n",
       "      <td>0.008964</td>\n",
       "    </tr>\n",
       "    <tr>\n",
       "      <th>Residual</th>\n",
       "      <td>2.453914</td>\n",
       "      <td>989.0</td>\n",
       "      <td>NaN</td>\n",
       "      <td>NaN</td>\n",
       "    </tr>\n",
       "  </tbody>\n",
       "</table>\n",
       "</div>"
      ],
      "text/plain": [
       "                sum_sq     df         F    PR(>F)\n",
       "Q('usg_pct')  0.028890    3.0  3.881136  0.008964\n",
       "Residual      2.453914  989.0       NaN       NaN"
      ]
     },
     "execution_count": 26,
     "metadata": {},
     "output_type": "execute_result"
    },
    {
     "data": {
      "image/png": "[encoded data removed]",
      "text/plain": [
       "<Figure size 432x288 with 1 Axes>"
      ]
     },
     "metadata": {
      "needs_background": "light"
     },
     "output_type": "display_data"
    }
   ],
   "source": [
    "sns.boxplot(x='usg_pct',y='ts_pct',data=cleaned_nba)\n",
    "ts_lm = ols(\" Q('ts_pct') ~ Q('usg_pct')\", data=cleaned_nba).fit()\n",
    "table = sm.stats.anova_lm(ts_lm, typ=2)\n",
    "table"
   ]
  },
  {
   "cell_type": "markdown",
   "metadata": {},
   "source": [
    "The p-value is less than .05, so ts_pct does vary by usg_pct."
   ]
  },
  {
   "cell_type": "code",
   "execution_count": 27,
   "metadata": {},
   "outputs": [
    {
     "data": {
      "text/html": [
       "<div>\n",
       "<style scoped>\n",
       "    .dataframe tbody tr th:only-of-type {\n",
       "        vertical-align: middle;\n",
       "    }\n",
       "\n",
       "    .dataframe tbody tr th {\n",
       "        vertical-align: top;\n",
       "    }\n",
       "\n",
       "    .dataframe thead th {\n",
       "        text-align: right;\n",
       "    }\n",
       "</style>\n",
       "<table border=\"1\" class=\"dataframe\">\n",
       "  <thead>\n",
       "    <tr style=\"text-align: right;\">\n",
       "      <th></th>\n",
       "      <th>sum_sq</th>\n",
       "      <th>df</th>\n",
       "      <th>F</th>\n",
       "      <th>PR(&gt;F)</th>\n",
       "    </tr>\n",
       "  </thead>\n",
       "  <tbody>\n",
       "    <tr>\n",
       "      <th>Q('usg_pct')</th>\n",
       "      <td>1.823840</td>\n",
       "      <td>3.0</td>\n",
       "      <td>108.73574</td>\n",
       "      <td>7.592450e-61</td>\n",
       "    </tr>\n",
       "    <tr>\n",
       "      <th>Residual</th>\n",
       "      <td>5.529546</td>\n",
       "      <td>989.0</td>\n",
       "      <td>NaN</td>\n",
       "      <td>NaN</td>\n",
       "    </tr>\n",
       "  </tbody>\n",
       "</table>\n",
       "</div>"
      ],
      "text/plain": [
       "                sum_sq     df          F        PR(>F)\n",
       "Q('usg_pct')  1.823840    3.0  108.73574  7.592450e-61\n",
       "Residual      5.529546  989.0        NaN           NaN"
      ]
     },
     "execution_count": 27,
     "metadata": {},
     "output_type": "execute_result"
    },
    {
     "data": {
      "image/png": "[encoded data removed]",
      "text/plain": [
       "<Figure size 432x288 with 1 Axes>"
      ]
     },
     "metadata": {
      "needs_background": "light"
     },
     "output_type": "display_data"
    }
   ],
   "source": [
    "sns.boxplot(x='usg_pct',y='ast_pct',data=cleaned_nba)\n",
    "ast_lm = ols(\" Q('ast_pct') ~ Q('usg_pct')\", data=cleaned_nba).fit()\n",
    "table = sm.stats.anova_lm(ast_lm, typ=2)\n",
    "table"
   ]
  },
  {
   "cell_type": "markdown",
   "metadata": {},
   "source": [
    "The p-value is approximately 0, so act_pct does vary by usg_pct."
   ]
  },
  {
   "cell_type": "code",
   "execution_count": 28,
   "metadata": {},
   "outputs": [
    {
     "data": {
      "image/png": "[encoded data removed]",
      "text/plain": [
       "<Figure size 1152x432 with 2 Axes>"
      ]
     },
     "metadata": {
      "needs_background": "light"
     },
     "output_type": "display_data"
    }
   ],
   "source": [
    "plt.figure(figsize=(16, 6))\n",
    "heatmap = sns.heatmap(nba[['pts','ast','reb','usg_pct']].corr(), vmin=-1, vmax=1, annot=True)\n",
    "heatmap.set_title('Correlation Heatmap', fontdict={'fontsize':12}, pad=12);"
   ]
  },
  {
   "cell_type": "markdown",
   "metadata": {},
   "source": [
    "<b>Create training dataset</b>"
   ]
  },
  {
   "cell_type": "code",
   "execution_count": 29,
   "metadata": {},
   "outputs": [],
   "source": [
    "eighteen = cleaned_nba[cleaned_nba['season'] == '2018-19']\n",
    "nineteen = cleaned_nba[cleaned_nba['season'] == '2019-20']\n",
    "twenty = cleaned_nba[cleaned_nba['season'] == '2020-21']"
   ]
  },
  {
   "cell_type": "code",
   "execution_count": 30,
   "metadata": {},
   "outputs": [],
   "source": [
    "nineteen_names = nineteen['player_name']\n",
    "nineteen_names = list(nineteen_names)\n",
    "eighteen = eighteen[eighteen['player_name'].isin(nineteen_names)]\n",
    "eighteen_names = eighteen['player_name']\n",
    "eighteen_names = list(eighteen_names)\n",
    "nineteen = nineteen[nineteen['player_name'].isin(nineteen_names)]\n",
    "nineteen_usg_rates = nineteen[['player_name','usg_pct']]\n",
    "data = pd.merge(eighteen, nineteen_usg_rates, on='player_name')\n",
    "data = data.rename(columns={\"usg_pct_x\": \"current_usg_pct\", \"usg_pct_y\": \"next_usg_pct\"})\n",
    "data = data.drop(['season'], axis = 1)"
   ]
  },
  {
   "cell_type": "code",
   "execution_count": 31,
   "metadata": {},
   "outputs": [],
   "source": [
    "twenty_names = twenty['player_name']\n",
    "twenty_names = list(twenty_names)\n",
    "nineteen = nineteen[nineteen['player_name'].isin(twenty_names)]\n",
    "nineteen_names = nineteen['player_name']\n",
    "nineteen_names = list(nineteen_names)\n",
    "twenty = twenty[twenty['player_name'].isin(twenty_names)]\n",
    "twenty_usg_rates = twenty[['player_name','usg_pct']]\n",
    "data1 = pd.merge(nineteen, twenty_usg_rates, on='player_name')\n",
    "data1 = data1.rename(columns={\"usg_pct_x\": \"current_usg_pct\", \"usg_pct_y\": \"next_usg_pct\"})\n",
    "data1 = data1.drop(['season'], axis = 1)"
   ]
  },
  {
   "cell_type": "code",
   "execution_count": 32,
   "metadata": {},
   "outputs": [
    {
     "name": "stdout",
     "output_type": "stream",
     "text": [
      "chi2 =  191.8517807082684\n",
      "p-val =  1.6866092954668432e-36\n",
      "degree of freedom =  9\n"
     ]
    }
   ],
   "source": [
    "from scipy.stats import chi2_contingency\n",
    "ct = pd.crosstab(data.current_usg_pct,data.next_usg_pct)\n",
    "chi2, p, dof, ex = chi2_contingency(ct)\n",
    "print(\"chi2 = \", chi2)\n",
    "print(\"p-val = \", p)\n",
    "print(\"degree of freedom = \",dof)"
   ]
  },
  {
   "cell_type": "code",
   "execution_count": 41,
   "metadata": {},
   "outputs": [
    {
     "data": {
      "text/html": [
       "<div>\n",
       "<style scoped>\n",
       "    .dataframe tbody tr th:only-of-type {\n",
       "        vertical-align: middle;\n",
       "    }\n",
       "\n",
       "    .dataframe tbody tr th {\n",
       "        vertical-align: top;\n",
       "    }\n",
       "\n",
       "    .dataframe thead th {\n",
       "        text-align: right;\n",
       "    }\n",
       "</style>\n",
       "<table border=\"1\" class=\"dataframe\">\n",
       "  <thead>\n",
       "    <tr style=\"text-align: right;\">\n",
       "      <th>next_usg_pct</th>\n",
       "      <th>Elite</th>\n",
       "      <th>High</th>\n",
       "      <th>Low</th>\n",
       "      <th>Medium</th>\n",
       "    </tr>\n",
       "    <tr>\n",
       "      <th>current_usg_pct</th>\n",
       "      <th></th>\n",
       "      <th></th>\n",
       "      <th></th>\n",
       "      <th></th>\n",
       "    </tr>\n",
       "  </thead>\n",
       "  <tbody>\n",
       "    <tr>\n",
       "      <th>Elite</th>\n",
       "      <td>48</td>\n",
       "      <td>11</td>\n",
       "      <td>1</td>\n",
       "      <td>0</td>\n",
       "    </tr>\n",
       "    <tr>\n",
       "      <th>High</th>\n",
       "      <td>13</td>\n",
       "      <td>25</td>\n",
       "      <td>6</td>\n",
       "      <td>15</td>\n",
       "    </tr>\n",
       "    <tr>\n",
       "      <th>Low</th>\n",
       "      <td>0</td>\n",
       "      <td>5</td>\n",
       "      <td>37</td>\n",
       "      <td>18</td>\n",
       "    </tr>\n",
       "    <tr>\n",
       "      <th>Medium</th>\n",
       "      <td>1</td>\n",
       "      <td>19</td>\n",
       "      <td>18</td>\n",
       "      <td>29</td>\n",
       "    </tr>\n",
       "  </tbody>\n",
       "</table>\n",
       "</div>"
      ],
      "text/plain": [
       "next_usg_pct     Elite  High  Low  Medium\n",
       "current_usg_pct                          \n",
       "Elite               48    11    1       0\n",
       "High                13    25    6      15\n",
       "Low                  0     5   37      18\n",
       "Medium               1    19   18      29"
      ]
     },
     "execution_count": 41,
     "metadata": {},
     "output_type": "execute_result"
    }
   ],
   "source": [
    "ct"
   ]
  },
  {
   "cell_type": "markdown",
   "metadata": {},
   "source": [
    "<b>Machine Learning</b>"
   ]
  },
  {
   "cell_type": "code",
   "execution_count": 33,
   "metadata": {},
   "outputs": [],
   "source": [
    "from sklearn.model_selection import train_test_split\n",
    "ml_data = data.copy()\n",
    "ml_data = ml_data.drop(['player_name'], axis = 1)\n",
    "ml_data = ml_data.drop(['player_height', 'player_weight', 'age', 'gp', 'dreb_pct', 'ast_pct', 'reb'], axis = 1)\n",
    "\n",
    "target = \"next_usg_pct\"\n",
    "\n",
    "X = ml_data.drop(target, axis=1)\n",
    "y = ml_data[target]\n",
    "\n",
    "seed = 5\n",
    "test_size = 0.2\n",
    "X_train, X_test, y_train, y_test = train_test_split(X, y, test_size=test_size, random_state=seed)"
   ]
  },
  {
   "cell_type": "code",
   "execution_count": 34,
   "metadata": {},
   "outputs": [
    {
     "data": {
      "text/html": [
       "<div>\n",
       "<style scoped>\n",
       "    .dataframe tbody tr th:only-of-type {\n",
       "        vertical-align: middle;\n",
       "    }\n",
       "\n",
       "    .dataframe tbody tr th {\n",
       "        vertical-align: top;\n",
       "    }\n",
       "\n",
       "    .dataframe thead th {\n",
       "        text-align: right;\n",
       "    }\n",
       "</style>\n",
       "<table border=\"1\" class=\"dataframe\">\n",
       "  <thead>\n",
       "    <tr style=\"text-align: right;\">\n",
       "      <th></th>\n",
       "      <th>pts</th>\n",
       "      <th>ast</th>\n",
       "      <th>net_rating</th>\n",
       "      <th>oreb_pct</th>\n",
       "      <th>current_usg_pct</th>\n",
       "      <th>ts_pct</th>\n",
       "    </tr>\n",
       "  </thead>\n",
       "  <tbody>\n",
       "    <tr>\n",
       "      <th>184</th>\n",
       "      <td>25.6</td>\n",
       "      <td>5.5</td>\n",
       "      <td>-1.8</td>\n",
       "      <td>0.028</td>\n",
       "      <td>Elite</td>\n",
       "      <td>0.581</td>\n",
       "    </tr>\n",
       "    <tr>\n",
       "      <th>185</th>\n",
       "      <td>10.6</td>\n",
       "      <td>1.5</td>\n",
       "      <td>0.9</td>\n",
       "      <td>0.081</td>\n",
       "      <td>Medium</td>\n",
       "      <td>0.682</td>\n",
       "    </tr>\n",
       "    <tr>\n",
       "      <th>84</th>\n",
       "      <td>10.3</td>\n",
       "      <td>1.8</td>\n",
       "      <td>-11.7</td>\n",
       "      <td>0.075</td>\n",
       "      <td>High</td>\n",
       "      <td>0.541</td>\n",
       "    </tr>\n",
       "    <tr>\n",
       "      <th>180</th>\n",
       "      <td>11.8</td>\n",
       "      <td>2.1</td>\n",
       "      <td>-0.3</td>\n",
       "      <td>0.008</td>\n",
       "      <td>Medium</td>\n",
       "      <td>0.586</td>\n",
       "    </tr>\n",
       "    <tr>\n",
       "      <th>87</th>\n",
       "      <td>5.0</td>\n",
       "      <td>1.1</td>\n",
       "      <td>1.7</td>\n",
       "      <td>0.027</td>\n",
       "      <td>Low</td>\n",
       "      <td>0.531</td>\n",
       "    </tr>\n",
       "    <tr>\n",
       "      <th>...</th>\n",
       "      <td>...</td>\n",
       "      <td>...</td>\n",
       "      <td>...</td>\n",
       "      <td>...</td>\n",
       "      <td>...</td>\n",
       "      <td>...</td>\n",
       "    </tr>\n",
       "    <tr>\n",
       "      <th>230</th>\n",
       "      <td>14.8</td>\n",
       "      <td>3.9</td>\n",
       "      <td>-10.8</td>\n",
       "      <td>0.019</td>\n",
       "      <td>Elite</td>\n",
       "      <td>0.531</td>\n",
       "    </tr>\n",
       "    <tr>\n",
       "      <th>189</th>\n",
       "      <td>13.6</td>\n",
       "      <td>1.0</td>\n",
       "      <td>5.4</td>\n",
       "      <td>0.032</td>\n",
       "      <td>Medium</td>\n",
       "      <td>0.592</td>\n",
       "    </tr>\n",
       "    <tr>\n",
       "      <th>239</th>\n",
       "      <td>9.4</td>\n",
       "      <td>0.8</td>\n",
       "      <td>-5.8</td>\n",
       "      <td>0.071</td>\n",
       "      <td>High</td>\n",
       "      <td>0.587</td>\n",
       "    </tr>\n",
       "    <tr>\n",
       "      <th>206</th>\n",
       "      <td>7.2</td>\n",
       "      <td>1.2</td>\n",
       "      <td>-0.9</td>\n",
       "      <td>0.025</td>\n",
       "      <td>Low</td>\n",
       "      <td>0.561</td>\n",
       "    </tr>\n",
       "    <tr>\n",
       "      <th>99</th>\n",
       "      <td>8.2</td>\n",
       "      <td>0.9</td>\n",
       "      <td>-5.4</td>\n",
       "      <td>0.095</td>\n",
       "      <td>Medium</td>\n",
       "      <td>0.647</td>\n",
       "    </tr>\n",
       "  </tbody>\n",
       "</table>\n",
       "<p>196 rows × 6 columns</p>\n",
       "</div>"
      ],
      "text/plain": [
       "      pts  ast  net_rating  oreb_pct current_usg_pct  ts_pct\n",
       "184  25.6  5.5        -1.8     0.028           Elite   0.581\n",
       "185  10.6  1.5         0.9     0.081          Medium   0.682\n",
       "84   10.3  1.8       -11.7     0.075            High   0.541\n",
       "180  11.8  2.1        -0.3     0.008          Medium   0.586\n",
       "87    5.0  1.1         1.7     0.027             Low   0.531\n",
       "..    ...  ...         ...       ...             ...     ...\n",
       "230  14.8  3.9       -10.8     0.019           Elite   0.531\n",
       "189  13.6  1.0         5.4     0.032          Medium   0.592\n",
       "239   9.4  0.8        -5.8     0.071            High   0.587\n",
       "206   7.2  1.2        -0.9     0.025             Low   0.561\n",
       "99    8.2  0.9        -5.4     0.095          Medium   0.647\n",
       "\n",
       "[196 rows x 6 columns]"
      ]
     },
     "execution_count": 34,
     "metadata": {},
     "output_type": "execute_result"
    }
   ],
   "source": [
    "X_train"
   ]
  },
  {
   "cell_type": "code",
   "execution_count": 35,
   "metadata": {},
   "outputs": [],
   "source": [
    "from sklearn.compose import ColumnTransformer\n",
    "from sklearn.preprocessing import StandardScaler\n",
    "from sklearn.preprocessing import OneHotEncoder\n",
    "\n",
    "num_attribs = list(X_train.select_dtypes(include=[np.number]))\n",
    "cat_attribs = list(X_train.select_dtypes(exclude=[np.number]))\n",
    "\n",
    "pipeline = full_pipeline = ColumnTransformer([\n",
    "        (\"cat\", OneHotEncoder(), cat_attribs), \n",
    "        (\"num\", StandardScaler(), num_attribs)\n",
    "    ])\n",
    "\n",
    "X_train_prepared = full_pipeline.fit_transform(X_train)\n",
    "X_test_prepared = full_pipeline.transform(X_test)"
   ]
  },
  {
   "cell_type": "code",
   "execution_count": 36,
   "metadata": {},
   "outputs": [
    {
     "name": "stdout",
     "output_type": "stream",
     "text": [
      "model name: GaussianNB() Accuracy: 46.00%\n",
      "model name: LogisticRegression() Accuracy: 64.00%\n",
      "model name: SVC() Accuracy: 56.00%\n",
      "model name: DecisionTreeClassifier(random_state=5) Accuracy: 52.00%\n",
      "model name: RandomForestClassifier(random_state=5) Accuracy: 44.00%\n"
     ]
    }
   ],
   "source": [
    "from sklearn.metrics import accuracy_score\n",
    "from sklearn.naive_bayes import GaussianNB\n",
    "from sklearn.linear_model import LogisticRegression\n",
    "from sklearn import svm\n",
    "from sklearn.tree import DecisionTreeClassifier\n",
    "from sklearn.ensemble import RandomForestClassifier\n",
    "\n",
    "models = [GaussianNB(), \n",
    "          LogisticRegression(), \n",
    "          svm.SVC(), \n",
    "          DecisionTreeClassifier(\n",
    "          random_state=seed), \n",
    "          RandomForestClassifier(\n",
    "          random_state=seed)]\n",
    "for model in models:\n",
    "    model.fit(X_train_prepared, y_train)\n",
    "    y_pred = model.predict(X_test_prepared)\n",
    "    accuracy = accuracy_score(y_test, y_pred)\n",
    "    print('model name:', model, \"Accuracy: %.2f%%\" % (accuracy * 100.0))"
   ]
  },
  {
   "cell_type": "code",
   "execution_count": 37,
   "metadata": {},
   "outputs": [
    {
     "name": "stdout",
     "output_type": "stream",
     "text": [
      "model name: SVC(C=10, gamma=0.01) and LogisticRegression() Accuracy: 66.00%\n"
     ]
    }
   ],
   "source": [
    "from sklearn.ensemble import VotingClassifier\n",
    "clf1 = svm.SVC(C=10, gamma=0.01)\n",
    "clf2 = LogisticRegression()\n",
    "eclf1 = VotingClassifier(estimators=[\n",
    "        ('svc', clf1), ('lr', clf2)], voting='hard')\n",
    "eclf1 = eclf1.fit(X_train_prepared, y_train)\n",
    "y_pred = eclf1.predict(X_test_prepared)\n",
    "accuracy = accuracy_score(y_test, y_pred)\n",
    "print('model name:', clf1, 'and', clf2, \"Accuracy: %.2f%%\" % (accuracy * 100.0))"
   ]
  },
  {
   "cell_type": "code",
   "execution_count": 38,
   "metadata": {},
   "outputs": [
    {
     "name": "stdout",
     "output_type": "stream",
     "text": [
      "Accuracy: 56.03%\n"
     ]
    }
   ],
   "source": [
    "predict_data = data1.copy()\n",
    "predict_data = predict_data.drop(['player_name'], axis = 1)\n",
    "predict_data = predict_data.drop(['player_height', 'player_weight', 'age', 'gp', 'dreb_pct', 'ast_pct', 'reb'], axis = 1)\n",
    "\n",
    "target = \"next_usg_pct\"\n",
    "\n",
    "X = predict_data.drop(target, axis=1)\n",
    "y = predict_data[target]\n",
    "X_predict = full_pipeline.transform(X)\n",
    "y_pred = eclf1.predict(X_predict)\n",
    "accuracy = accuracy_score(y, y_pred)\n",
    "output = pd.DataFrame({'Actual' : y, 'Predicted': y_pred, 'Player': data1.player_name})\n",
    "print(\"Accuracy: %.2f%%\" % (accuracy * 100.0))"
   ]
  },
  {
   "cell_type": "code",
   "execution_count": 39,
   "metadata": {},
   "outputs": [
    {
     "name": "stdout",
     "output_type": "stream",
     "text": [
      "              precision    recall  f1-score   support\n",
      "\n",
      "       Elite       0.77      0.78      0.77        68\n",
      "        High       0.35      0.30      0.32        57\n",
      "         Low       0.66      0.75      0.70        52\n",
      "      Medium       0.38      0.38      0.38        55\n",
      "\n",
      "    accuracy                           0.56       232\n",
      "   macro avg       0.54      0.55      0.54       232\n",
      "weighted avg       0.55      0.56      0.55       232\n",
      "\n",
      "[[53 10  1  4]\n",
      " [15 17  4 21]\n",
      " [ 0  4 39  9]\n",
      " [ 1 18 15 21]]\n"
     ]
    }
   ],
   "source": [
    "from sklearn.metrics import classification_report, confusion_matrix\n",
    "print(classification_report(y, y_pred))\n",
    "print(confusion_matrix(y, y_pred))"
   ]
  },
  {
   "cell_type": "code",
   "execution_count": 40,
   "metadata": {},
   "outputs": [
    {
     "data": {
      "text/html": [
       "<div>\n",
       "<style scoped>\n",
       "    .dataframe tbody tr th:only-of-type {\n",
       "        vertical-align: middle;\n",
       "    }\n",
       "\n",
       "    .dataframe tbody tr th {\n",
       "        vertical-align: top;\n",
       "    }\n",
       "\n",
       "    .dataframe thead th {\n",
       "        text-align: right;\n",
       "    }\n",
       "</style>\n",
       "<table border=\"1\" class=\"dataframe\">\n",
       "  <thead>\n",
       "    <tr style=\"text-align: right;\">\n",
       "      <th></th>\n",
       "      <th>Actual</th>\n",
       "      <th>Predicted</th>\n",
       "      <th>Player</th>\n",
       "    </tr>\n",
       "  </thead>\n",
       "  <tbody>\n",
       "    <tr>\n",
       "      <th>0</th>\n",
       "      <td>Elite</td>\n",
       "      <td>Elite</td>\n",
       "      <td>Fred VanVleet</td>\n",
       "    </tr>\n",
       "    <tr>\n",
       "      <th>1</th>\n",
       "      <td>High</td>\n",
       "      <td>Medium</td>\n",
       "      <td>Furkan Korkmaz</td>\n",
       "    </tr>\n",
       "    <tr>\n",
       "      <th>2</th>\n",
       "      <td>Low</td>\n",
       "      <td>Medium</td>\n",
       "      <td>Garrett Temple</td>\n",
       "    </tr>\n",
       "    <tr>\n",
       "      <th>3</th>\n",
       "      <td>High</td>\n",
       "      <td>Medium</td>\n",
       "      <td>Gary Trent Jr.</td>\n",
       "    </tr>\n",
       "    <tr>\n",
       "      <th>4</th>\n",
       "      <td>Medium</td>\n",
       "      <td>Medium</td>\n",
       "      <td>Georges Niang</td>\n",
       "    </tr>\n",
       "  </tbody>\n",
       "</table>\n",
       "</div>"
      ],
      "text/plain": [
       "   Actual Predicted          Player\n",
       "0   Elite     Elite   Fred VanVleet\n",
       "1    High    Medium  Furkan Korkmaz\n",
       "2     Low    Medium  Garrett Temple\n",
       "3    High    Medium  Gary Trent Jr.\n",
       "4  Medium    Medium   Georges Niang"
      ]
     },
     "execution_count": 40,
     "metadata": {},
     "output_type": "execute_result"
    }
   ],
   "source": [
    "output.head()"
   ]
  },
  {
   "cell_type": "code",
   "execution_count": 43,
   "metadata": {},
   "outputs": [
    {
     "data": {
      "text/html": [
       "<div>\n",
       "<style scoped>\n",
       "    .dataframe tbody tr th:only-of-type {\n",
       "        vertical-align: middle;\n",
       "    }\n",
       "\n",
       "    .dataframe tbody tr th {\n",
       "        vertical-align: top;\n",
       "    }\n",
       "\n",
       "    .dataframe thead th {\n",
       "        text-align: right;\n",
       "    }\n",
       "</style>\n",
       "<table border=\"1\" class=\"dataframe\">\n",
       "  <thead>\n",
       "    <tr style=\"text-align: right;\">\n",
       "      <th></th>\n",
       "      <th>age</th>\n",
       "      <th>player_height</th>\n",
       "      <th>player_weight</th>\n",
       "      <th>gp</th>\n",
       "      <th>pts</th>\n",
       "      <th>reb</th>\n",
       "      <th>ast</th>\n",
       "      <th>net_rating</th>\n",
       "      <th>oreb_pct</th>\n",
       "      <th>dreb_pct</th>\n",
       "      <th>current_usg_pct</th>\n",
       "      <th>ts_pct</th>\n",
       "      <th>ast_pct</th>\n",
       "      <th>player_name</th>\n",
       "      <th>next_usg_pct</th>\n",
       "    </tr>\n",
       "  </thead>\n",
       "  <tbody>\n",
       "    <tr>\n",
       "      <th>0</th>\n",
       "      <td>26.0</td>\n",
       "      <td>185.42</td>\n",
       "      <td>89.357624</td>\n",
       "      <td>54</td>\n",
       "      <td>17.6</td>\n",
       "      <td>3.8</td>\n",
       "      <td>6.6</td>\n",
       "      <td>4.8</td>\n",
       "      <td>0.009</td>\n",
       "      <td>0.088</td>\n",
       "      <td>High</td>\n",
       "      <td>0.553</td>\n",
       "      <td>0.281</td>\n",
       "      <td>Fred VanVleet</td>\n",
       "      <td>Elite</td>\n",
       "    </tr>\n",
       "    <tr>\n",
       "      <th>1</th>\n",
       "      <td>22.0</td>\n",
       "      <td>200.66</td>\n",
       "      <td>91.625584</td>\n",
       "      <td>72</td>\n",
       "      <td>9.8</td>\n",
       "      <td>2.3</td>\n",
       "      <td>1.1</td>\n",
       "      <td>2.7</td>\n",
       "      <td>0.011</td>\n",
       "      <td>0.093</td>\n",
       "      <td>Medium</td>\n",
       "      <td>0.579</td>\n",
       "      <td>0.073</td>\n",
       "      <td>Furkan Korkmaz</td>\n",
       "      <td>High</td>\n",
       "    </tr>\n",
       "    <tr>\n",
       "      <th>2</th>\n",
       "      <td>34.0</td>\n",
       "      <td>195.58</td>\n",
       "      <td>88.450440</td>\n",
       "      <td>62</td>\n",
       "      <td>10.3</td>\n",
       "      <td>3.5</td>\n",
       "      <td>2.5</td>\n",
       "      <td>-1.4</td>\n",
       "      <td>0.015</td>\n",
       "      <td>0.096</td>\n",
       "      <td>Medium</td>\n",
       "      <td>0.513</td>\n",
       "      <td>0.132</td>\n",
       "      <td>Garrett Temple</td>\n",
       "      <td>Low</td>\n",
       "    </tr>\n",
       "    <tr>\n",
       "      <th>3</th>\n",
       "      <td>21.0</td>\n",
       "      <td>195.58</td>\n",
       "      <td>94.800728</td>\n",
       "      <td>61</td>\n",
       "      <td>8.9</td>\n",
       "      <td>1.6</td>\n",
       "      <td>1.0</td>\n",
       "      <td>-1.4</td>\n",
       "      <td>0.017</td>\n",
       "      <td>0.052</td>\n",
       "      <td>Medium</td>\n",
       "      <td>0.587</td>\n",
       "      <td>0.064</td>\n",
       "      <td>Gary Trent Jr.</td>\n",
       "      <td>High</td>\n",
       "    </tr>\n",
       "    <tr>\n",
       "      <th>4</th>\n",
       "      <td>27.0</td>\n",
       "      <td>200.66</td>\n",
       "      <td>104.326160</td>\n",
       "      <td>66</td>\n",
       "      <td>5.9</td>\n",
       "      <td>1.9</td>\n",
       "      <td>0.7</td>\n",
       "      <td>-1.1</td>\n",
       "      <td>0.015</td>\n",
       "      <td>0.117</td>\n",
       "      <td>Medium</td>\n",
       "      <td>0.589</td>\n",
       "      <td>0.069</td>\n",
       "      <td>Georges Niang</td>\n",
       "      <td>Medium</td>\n",
       "    </tr>\n",
       "    <tr>\n",
       "      <th>...</th>\n",
       "      <td>...</td>\n",
       "      <td>...</td>\n",
       "      <td>...</td>\n",
       "      <td>...</td>\n",
       "      <td>...</td>\n",
       "      <td>...</td>\n",
       "      <td>...</td>\n",
       "      <td>...</td>\n",
       "      <td>...</td>\n",
       "      <td>...</td>\n",
       "      <td>...</td>\n",
       "      <td>...</td>\n",
       "      <td>...</td>\n",
       "      <td>...</td>\n",
       "      <td>...</td>\n",
       "    </tr>\n",
       "    <tr>\n",
       "      <th>227</th>\n",
       "      <td>30.0</td>\n",
       "      <td>203.20</td>\n",
       "      <td>98.883056</td>\n",
       "      <td>62</td>\n",
       "      <td>16.7</td>\n",
       "      <td>5.0</td>\n",
       "      <td>1.4</td>\n",
       "      <td>1.5</td>\n",
       "      <td>0.029</td>\n",
       "      <td>0.128</td>\n",
       "      <td>High</td>\n",
       "      <td>0.570</td>\n",
       "      <td>0.066</td>\n",
       "      <td>Marcus Morris Sr.</td>\n",
       "      <td>High</td>\n",
       "    </tr>\n",
       "    <tr>\n",
       "      <th>228</th>\n",
       "      <td>23.0</td>\n",
       "      <td>195.58</td>\n",
       "      <td>91.171992</td>\n",
       "      <td>65</td>\n",
       "      <td>4.7</td>\n",
       "      <td>1.6</td>\n",
       "      <td>1.2</td>\n",
       "      <td>2.4</td>\n",
       "      <td>0.033</td>\n",
       "      <td>0.049</td>\n",
       "      <td>Low</td>\n",
       "      <td>0.539</td>\n",
       "      <td>0.081</td>\n",
       "      <td>Matisse Thybulle</td>\n",
       "      <td>Low</td>\n",
       "    </tr>\n",
       "    <tr>\n",
       "      <th>229</th>\n",
       "      <td>25.0</td>\n",
       "      <td>193.04</td>\n",
       "      <td>86.182480</td>\n",
       "      <td>41</td>\n",
       "      <td>4.9</td>\n",
       "      <td>1.5</td>\n",
       "      <td>0.5</td>\n",
       "      <td>4.2</td>\n",
       "      <td>0.018</td>\n",
       "      <td>0.100</td>\n",
       "      <td>Medium</td>\n",
       "      <td>0.650</td>\n",
       "      <td>0.076</td>\n",
       "      <td>Matt Thomas</td>\n",
       "      <td>High</td>\n",
       "    </tr>\n",
       "    <tr>\n",
       "      <th>230</th>\n",
       "      <td>30.0</td>\n",
       "      <td>203.20</td>\n",
       "      <td>111.130040</td>\n",
       "      <td>58</td>\n",
       "      <td>9.7</td>\n",
       "      <td>3.8</td>\n",
       "      <td>1.3</td>\n",
       "      <td>-5.8</td>\n",
       "      <td>0.033</td>\n",
       "      <td>0.144</td>\n",
       "      <td>High</td>\n",
       "      <td>0.565</td>\n",
       "      <td>0.100</td>\n",
       "      <td>Markieff Morris</td>\n",
       "      <td>Medium</td>\n",
       "    </tr>\n",
       "    <tr>\n",
       "      <th>231</th>\n",
       "      <td>30.0</td>\n",
       "      <td>210.82</td>\n",
       "      <td>115.212368</td>\n",
       "      <td>61</td>\n",
       "      <td>7.2</td>\n",
       "      <td>5.2</td>\n",
       "      <td>2.5</td>\n",
       "      <td>-1.0</td>\n",
       "      <td>0.087</td>\n",
       "      <td>0.195</td>\n",
       "      <td>Medium</td>\n",
       "      <td>0.613</td>\n",
       "      <td>0.210</td>\n",
       "      <td>Mason Plumlee</td>\n",
       "      <td>Medium</td>\n",
       "    </tr>\n",
       "  </tbody>\n",
       "</table>\n",
       "<p>232 rows × 15 columns</p>\n",
       "</div>"
      ],
      "text/plain": [
       "      age  player_height  ...        player_name  next_usg_pct\n",
       "0    26.0         185.42  ...      Fred VanVleet         Elite\n",
       "1    22.0         200.66  ...     Furkan Korkmaz          High\n",
       "2    34.0         195.58  ...     Garrett Temple           Low\n",
       "3    21.0         195.58  ...     Gary Trent Jr.          High\n",
       "4    27.0         200.66  ...      Georges Niang        Medium\n",
       "..    ...            ...  ...                ...           ...\n",
       "227  30.0         203.20  ...  Marcus Morris Sr.          High\n",
       "228  23.0         195.58  ...   Matisse Thybulle           Low\n",
       "229  25.0         193.04  ...        Matt Thomas          High\n",
       "230  30.0         203.20  ...    Markieff Morris        Medium\n",
       "231  30.0         210.82  ...      Mason Plumlee        Medium\n",
       "\n",
       "[232 rows x 15 columns]"
      ]
     },
     "execution_count": 43,
     "metadata": {},
     "output_type": "execute_result"
    }
   ],
   "source": [
    "data1"
   ]
  },
  {
   "cell_type": "markdown",
   "metadata": {},
   "source": [
   ]
  },
  {
   "cell_type": "code",
   "execution_count": null,
   "metadata": {},
   "outputs": [],
   "source": []
  }
 ],
 "metadata": {
  "kernelspec": {
   "display_name": "Python 3",
   "language": "python",
   "name": "python3"
  },
  "language_info": {
   "codemirror_mode": {
    "name": "ipython",
    "version": 3
   },
   "file_extension": ".py",
   "mimetype": "text/x-python",
   "name": "python",
   "nbconvert_exporter": "python",
   "pygments_lexer": "ipython3",
   "version": "3.8.3"
  }
 },
 "nbformat": 4,
 "nbformat_minor": 4
}
